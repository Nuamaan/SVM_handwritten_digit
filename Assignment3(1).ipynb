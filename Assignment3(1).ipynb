{
  "nbformat": 4,
  "nbformat_minor": 0,
  "metadata": {
    "colab": {
      "name": "Assignment3.ipynb",
      "provenance": [],
      "collapsed_sections": []
    },
    "kernelspec": {
      "name": "python3",
      "display_name": "Python 3"
    },
    "language_info": {
      "name": "python"
    }
  },
  "cells": [
    {
      "cell_type": "code",
      "source": [
        "from google.colab import drive\n",
        "drive.mount('/content/drive')"
      ],
      "metadata": {
        "colab": {
          "base_uri": "https://localhost:8080/"
        },
        "id": "mX0pbLQjGXiG",
        "outputId": "b6600e1e-6a9a-4b1d-ab1b-0579cd555d9f"
      },
      "execution_count": null,
      "outputs": [
        {
          "output_type": "stream",
          "name": "stdout",
          "text": [
            "Drive already mounted at /content/drive; to attempt to forcibly remount, call drive.mount(\"/content/drive\", force_remount=True).\n"
          ]
        }
      ]
    },
    {
      "cell_type": "code",
      "execution_count": null,
      "metadata": {
        "id": "C69lxcai5N-G"
      },
      "outputs": [],
      "source": [
        "import pandas as pd\n",
        "from sklearn import svm, datasets\n",
        "import sklearn.model_selection as model_selection\n",
        "from sklearn.metrics import accuracy_score\n",
        "from sklearn.metrics import f1_score\n"
      ]
    },
    {
      "cell_type": "code",
      "source": [
        "pip install cvxpy"
      ],
      "metadata": {
        "colab": {
          "base_uri": "https://localhost:8080/"
        },
        "id": "Bxe4MpP2qjM9",
        "outputId": "d14d7857-e154-4b6b-b7d5-167f7e80b644"
      },
      "execution_count": null,
      "outputs": [
        {
          "output_type": "stream",
          "name": "stdout",
          "text": [
            "Looking in indexes: https://pypi.org/simple, https://us-python.pkg.dev/colab-wheels/public/simple/\n",
            "Requirement already satisfied: cvxpy in /usr/local/lib/python3.7/dist-packages (1.0.31)\n",
            "Requirement already satisfied: numpy>=1.15 in /usr/local/lib/python3.7/dist-packages (from cvxpy) (1.21.6)\n",
            "Requirement already satisfied: scipy>=1.1.0 in /usr/local/lib/python3.7/dist-packages (from cvxpy) (1.4.1)\n",
            "Requirement already satisfied: multiprocess in /usr/local/lib/python3.7/dist-packages (from cvxpy) (0.70.13)\n",
            "Requirement already satisfied: scs>=1.1.3 in /usr/local/lib/python3.7/dist-packages (from cvxpy) (3.2.0)\n",
            "Requirement already satisfied: osqp>=0.4.1 in /usr/local/lib/python3.7/dist-packages (from cvxpy) (0.6.2.post0)\n",
            "Requirement already satisfied: ecos>=2 in /usr/local/lib/python3.7/dist-packages (from cvxpy) (2.0.10)\n",
            "Requirement already satisfied: qdldl in /usr/local/lib/python3.7/dist-packages (from osqp>=0.4.1->cvxpy) (0.1.5.post2)\n",
            "Requirement already satisfied: dill>=0.3.5.1 in /usr/local/lib/python3.7/dist-packages (from multiprocess->cvxpy) (0.3.5.1)\n"
          ]
        }
      ]
    },
    {
      "cell_type": "code",
      "source": [
        "import numpy as np \n",
        "import matplotlib\n",
        "import matplotlib.pyplot as plt\n",
        "import random\n",
        "import time\n",
        "import cvxpy as cp"
      ],
      "metadata": {
        "id": "OJPXaTC92gOQ"
      },
      "execution_count": null,
      "outputs": []
    },
    {
      "cell_type": "code",
      "source": [
        "df=pd.read_csv('/content/drive/MyDrive/ECS271/Assignment3/studentspen-train.csv')"
      ],
      "metadata": {
        "id": "p_w9Qe7xKkaZ"
      },
      "execution_count": null,
      "outputs": []
    },
    {
      "cell_type": "code",
      "source": [
        "df.head()"
      ],
      "metadata": {
        "colab": {
          "base_uri": "https://localhost:8080/",
          "height": 206
        },
        "id": "gv49mkONxJeX",
        "outputId": "7655514c-d453-4374-d3db-42f39fa24a3e"
      },
      "execution_count": null,
      "outputs": [
        {
          "output_type": "execute_result",
          "data": {
            "text/plain": [
              "   x3  y3   x4  y4   x5  y5   x6   y6  Digit\n",
              "0  10  75    0  24   48   0  100   19      0\n",
              "1  16  69    0  27   40   0   93   15      0\n",
              "2  11   5   63   0  100  43   89   99      0\n",
              "3  47   0   86  25  100  66   76  100      0\n",
              "4  57   0  100  22   95  75   54  100      0"
            ],
            "text/html": [
              "\n",
              "  <div id=\"df-754ba3b4-45ba-441c-8228-76ff361168c7\">\n",
              "    <div class=\"colab-df-container\">\n",
              "      <div>\n",
              "<style scoped>\n",
              "    .dataframe tbody tr th:only-of-type {\n",
              "        vertical-align: middle;\n",
              "    }\n",
              "\n",
              "    .dataframe tbody tr th {\n",
              "        vertical-align: top;\n",
              "    }\n",
              "\n",
              "    .dataframe thead th {\n",
              "        text-align: right;\n",
              "    }\n",
              "</style>\n",
              "<table border=\"1\" class=\"dataframe\">\n",
              "  <thead>\n",
              "    <tr style=\"text-align: right;\">\n",
              "      <th></th>\n",
              "      <th>x3</th>\n",
              "      <th>y3</th>\n",
              "      <th>x4</th>\n",
              "      <th>y4</th>\n",
              "      <th>x5</th>\n",
              "      <th>y5</th>\n",
              "      <th>x6</th>\n",
              "      <th>y6</th>\n",
              "      <th>Digit</th>\n",
              "    </tr>\n",
              "  </thead>\n",
              "  <tbody>\n",
              "    <tr>\n",
              "      <th>0</th>\n",
              "      <td>10</td>\n",
              "      <td>75</td>\n",
              "      <td>0</td>\n",
              "      <td>24</td>\n",
              "      <td>48</td>\n",
              "      <td>0</td>\n",
              "      <td>100</td>\n",
              "      <td>19</td>\n",
              "      <td>0</td>\n",
              "    </tr>\n",
              "    <tr>\n",
              "      <th>1</th>\n",
              "      <td>16</td>\n",
              "      <td>69</td>\n",
              "      <td>0</td>\n",
              "      <td>27</td>\n",
              "      <td>40</td>\n",
              "      <td>0</td>\n",
              "      <td>93</td>\n",
              "      <td>15</td>\n",
              "      <td>0</td>\n",
              "    </tr>\n",
              "    <tr>\n",
              "      <th>2</th>\n",
              "      <td>11</td>\n",
              "      <td>5</td>\n",
              "      <td>63</td>\n",
              "      <td>0</td>\n",
              "      <td>100</td>\n",
              "      <td>43</td>\n",
              "      <td>89</td>\n",
              "      <td>99</td>\n",
              "      <td>0</td>\n",
              "    </tr>\n",
              "    <tr>\n",
              "      <th>3</th>\n",
              "      <td>47</td>\n",
              "      <td>0</td>\n",
              "      <td>86</td>\n",
              "      <td>25</td>\n",
              "      <td>100</td>\n",
              "      <td>66</td>\n",
              "      <td>76</td>\n",
              "      <td>100</td>\n",
              "      <td>0</td>\n",
              "    </tr>\n",
              "    <tr>\n",
              "      <th>4</th>\n",
              "      <td>57</td>\n",
              "      <td>0</td>\n",
              "      <td>100</td>\n",
              "      <td>22</td>\n",
              "      <td>95</td>\n",
              "      <td>75</td>\n",
              "      <td>54</td>\n",
              "      <td>100</td>\n",
              "      <td>0</td>\n",
              "    </tr>\n",
              "  </tbody>\n",
              "</table>\n",
              "</div>\n",
              "      <button class=\"colab-df-convert\" onclick=\"convertToInteractive('df-754ba3b4-45ba-441c-8228-76ff361168c7')\"\n",
              "              title=\"Convert this dataframe to an interactive table.\"\n",
              "              style=\"display:none;\">\n",
              "        \n",
              "  <svg xmlns=\"http://www.w3.org/2000/svg\" height=\"24px\"viewBox=\"0 0 24 24\"\n",
              "       width=\"24px\">\n",
              "    <path d=\"M0 0h24v24H0V0z\" fill=\"none\"/>\n",
              "    <path d=\"M18.56 5.44l.94 2.06.94-2.06 2.06-.94-2.06-.94-.94-2.06-.94 2.06-2.06.94zm-11 1L8.5 8.5l.94-2.06 2.06-.94-2.06-.94L8.5 2.5l-.94 2.06-2.06.94zm10 10l.94 2.06.94-2.06 2.06-.94-2.06-.94-.94-2.06-.94 2.06-2.06.94z\"/><path d=\"M17.41 7.96l-1.37-1.37c-.4-.4-.92-.59-1.43-.59-.52 0-1.04.2-1.43.59L10.3 9.45l-7.72 7.72c-.78.78-.78 2.05 0 2.83L4 21.41c.39.39.9.59 1.41.59.51 0 1.02-.2 1.41-.59l7.78-7.78 2.81-2.81c.8-.78.8-2.07 0-2.86zM5.41 20L4 18.59l7.72-7.72 1.47 1.35L5.41 20z\"/>\n",
              "  </svg>\n",
              "      </button>\n",
              "      \n",
              "  <style>\n",
              "    .colab-df-container {\n",
              "      display:flex;\n",
              "      flex-wrap:wrap;\n",
              "      gap: 12px;\n",
              "    }\n",
              "\n",
              "    .colab-df-convert {\n",
              "      background-color: #E8F0FE;\n",
              "      border: none;\n",
              "      border-radius: 50%;\n",
              "      cursor: pointer;\n",
              "      display: none;\n",
              "      fill: #1967D2;\n",
              "      height: 32px;\n",
              "      padding: 0 0 0 0;\n",
              "      width: 32px;\n",
              "    }\n",
              "\n",
              "    .colab-df-convert:hover {\n",
              "      background-color: #E2EBFA;\n",
              "      box-shadow: 0px 1px 2px rgba(60, 64, 67, 0.3), 0px 1px 3px 1px rgba(60, 64, 67, 0.15);\n",
              "      fill: #174EA6;\n",
              "    }\n",
              "\n",
              "    [theme=dark] .colab-df-convert {\n",
              "      background-color: #3B4455;\n",
              "      fill: #D2E3FC;\n",
              "    }\n",
              "\n",
              "    [theme=dark] .colab-df-convert:hover {\n",
              "      background-color: #434B5C;\n",
              "      box-shadow: 0px 1px 3px 1px rgba(0, 0, 0, 0.15);\n",
              "      filter: drop-shadow(0px 1px 2px rgba(0, 0, 0, 0.3));\n",
              "      fill: #FFFFFF;\n",
              "    }\n",
              "  </style>\n",
              "\n",
              "      <script>\n",
              "        const buttonEl =\n",
              "          document.querySelector('#df-754ba3b4-45ba-441c-8228-76ff361168c7 button.colab-df-convert');\n",
              "        buttonEl.style.display =\n",
              "          google.colab.kernel.accessAllowed ? 'block' : 'none';\n",
              "\n",
              "        async function convertToInteractive(key) {\n",
              "          const element = document.querySelector('#df-754ba3b4-45ba-441c-8228-76ff361168c7');\n",
              "          const dataTable =\n",
              "            await google.colab.kernel.invokeFunction('convertToInteractive',\n",
              "                                                     [key], {});\n",
              "          if (!dataTable) return;\n",
              "\n",
              "          const docLinkHtml = 'Like what you see? Visit the ' +\n",
              "            '<a target=\"_blank\" href=https://colab.research.google.com/notebooks/data_table.ipynb>data table notebook</a>'\n",
              "            + ' to learn more about interactive tables.';\n",
              "          element.innerHTML = '';\n",
              "          dataTable['output_type'] = 'display_data';\n",
              "          await google.colab.output.renderOutput(dataTable, element);\n",
              "          const docLink = document.createElement('div');\n",
              "          docLink.innerHTML = docLinkHtml;\n",
              "          element.appendChild(docLink);\n",
              "        }\n",
              "      </script>\n",
              "    </div>\n",
              "  </div>\n",
              "  "
            ]
          },
          "metadata": {},
          "execution_count": 298
        }
      ]
    },
    {
      "cell_type": "code",
      "source": [
        "df.Digit.value_counts()"
      ],
      "metadata": {
        "colab": {
          "base_uri": "https://localhost:8080/"
        },
        "id": "5z04tX3VKpXp",
        "outputId": "2c8d54b2-ee28-48f7-cf90-3ceec2afd055"
      },
      "execution_count": null,
      "outputs": [
        {
          "output_type": "execute_result",
          "data": {
            "text/plain": [
              "2    392\n",
              "4    391\n",
              "1    390\n",
              "0    384\n",
              "5    375\n",
              "7    374\n",
              "3    370\n",
              "8    363\n",
              "9    357\n",
              "6    351\n",
              "Name: Digit, dtype: int64"
            ]
          },
          "metadata": {},
          "execution_count": 299
        }
      ]
    },
    {
      "cell_type": "code",
      "source": [
        "X=df[['x3','y3','x4','y4','x5','y5','x6','y6']]"
      ],
      "metadata": {
        "id": "lzdt0WzXKqlt"
      },
      "execution_count": null,
      "outputs": []
    },
    {
      "cell_type": "code",
      "source": [
        "\n",
        "df1=list(zip(*[X[col] for col in X]))\n",
        "X=[list(i) for i in df1]\n"
      ],
      "metadata": {
        "id": "pbfXWKqBMI8h"
      },
      "execution_count": null,
      "outputs": []
    },
    {
      "cell_type": "code",
      "source": [
        "\n",
        "Y=df['Digit'].to_list()\n",
        "Y=np.array(Y)"
      ],
      "metadata": {
        "id": "knMbEifZLLXe"
      },
      "execution_count": null,
      "outputs": []
    },
    {
      "cell_type": "code",
      "source": [
        "\n",
        "from sklearn.preprocessing import StandardScaler\n",
        "\n",
        "scaler = StandardScaler()\n",
        "X=scaler.fit_transform(X)"
      ],
      "metadata": {
        "id": "O4vFpsHkGk9c"
      },
      "execution_count": null,
      "outputs": []
    },
    {
      "cell_type": "markdown",
      "source": [
        "###One Vs One Predict function"
      ],
      "metadata": {
        "id": "DK5Y4qKQ4WFr"
      }
    },
    {
      "cell_type": "code",
      "source": [
        "def predict(x):\n",
        "  x=np.squeeze(np.asarray(x))\n",
        "  # x=x.reshape((x.shape[0],1))\n",
        "  vote=[0 for i in range(10)]\n",
        "\n",
        "  for i in range(9):\n",
        "    for j in range(i+1,10): \n",
        "      w=W_dic[(i,j)]\n",
        "      b=B_dic[(i,j)]\n",
        "      w=np.squeeze(np.asarray(w))\n",
        "      y=np.dot(w,x)+b \n",
        "      # print('y == ', y)\n",
        "      # print(j)\n",
        "      if y>0:\n",
        "        vote[i]+=1\n",
        "      else:\n",
        "        vote[j]+=1  \n",
        "  mm=max(vote)\n",
        "\n",
        "  return vote.index(mm)         \n",
        "\n"
      ],
      "metadata": {
        "id": "MMIWsHJeCUXM"
      },
      "execution_count": null,
      "outputs": []
    },
    {
      "cell_type": "code",
      "source": [
        "# print('ans : ', y_test[2])\n",
        "# predict(X_test[2])"
      ],
      "metadata": {
        "id": "cLnmTr6XDedG"
      },
      "execution_count": null,
      "outputs": []
    },
    {
      "cell_type": "markdown",
      "source": [
        "###KFold Cross Validation"
      ],
      "metadata": {
        "id": "tAcrLnojS5my"
      }
    },
    {
      "cell_type": "code",
      "source": [
        "import numpy as np\n",
        "from sklearn.model_selection import KFold\n",
        "kf = KFold(n_splits=5,shuffle=True,random_state=1)"
      ],
      "metadata": {
        "id": "aP8YYI0FNz73"
      },
      "execution_count": null,
      "outputs": []
    },
    {
      "cell_type": "code",
      "source": [
        "KFold_accuracies=[]\n",
        "num_sv=[]\n",
        "total_samples=[]\n",
        "ns_by_n=[]"
      ],
      "metadata": {
        "id": "mGeKcjaJVl2N"
      },
      "execution_count": null,
      "outputs": []
    },
    {
      "cell_type": "code",
      "source": [
        "\n",
        "for train_index, test_index in kf.split(X):\n",
        "  # print(\"TRAIN:\", train_index, \"TEST:\", test_index)\n",
        "  X_train, X_test = X[train_index], X[test_index]\n",
        "  y_train, y_test = Y[train_index], Y[test_index]\n",
        "\n",
        "\n",
        "  X_train_dic={}\n",
        "\n",
        "  for i in range(len(X_train)):\n",
        "    if y_train[i] not in X_train_dic:\n",
        "      X_train_dic[y_train[i]]=[X_train[i]]\n",
        "    else:\n",
        "      X_train_dic[y_train[i]].append(X_train[i])\n",
        "\n",
        "\n",
        "  X_test_dic={}\n",
        "\n",
        "  for i in range(len(X_test)):\n",
        "    if y_test[i] not in X_test_dic:\n",
        "      X_test_dic[y_test[i]]=[X_test[i]]\n",
        "    else:\n",
        "      X_test_dic[y_test[i]].append(X_test[i])     \n",
        "\n",
        "  #ONE VS ONE MULTICLASS CLASSIFICATION\n",
        "\n",
        "  W_dic={}\n",
        "  B_dic={}\n",
        "  eps = 1e-8\n",
        "\n",
        "  ll=list(range(10))\n",
        "  for i in range(9):\n",
        "    for j in range(i+1,10):\n",
        "      data1=np.array(X_train_dic[i])\n",
        "      data2=np.array(X_train_dic[j])\n",
        "      N1=data1.shape[0]\n",
        "      N2=data2.shape[0]\n",
        "      D=8\n",
        "      xx = np.concatenate((data1, data2), axis=0)\n",
        "      \n",
        "      yy = np.concatenate((np.ones((N1, 1)), - np.ones((N2, 1))), axis=0)\n",
        "\n",
        "      # USE THE SOLVER \n",
        "\n",
        "      C = 2\n",
        "      w = cp.Variable((D, 1))\n",
        "      b = cp.Variable()\n",
        "      epsilon = cp.Variable((N1+N2, 1))\n",
        "      objective = cp.Minimize(cp.sum(cp.square(w))*0.5 + cp.sum(cp.square(epsilon)*C))\n",
        "      constraints = [cp.multiply(yy, (xx @ w + b)) >= 1 - epsilon,  epsilon >= 0]\n",
        "      prob = cp.Problem(objective, constraints)\n",
        "      prob.solve(max_iter=40000)\n",
        "      W_dic[(i,j)]=w.value\n",
        "      B_dic[(i,j)]=b.value \n",
        "      \n",
        "      #Number of support vectors\n",
        "      sup = yy*(xx.dot(w.value)+b.value)-1\n",
        "      sup_v1 = ((-eps<sup) & (sup<eps)).flatten()\n",
        "      num_sv.append(len(sup_v1))\n",
        "      total_samples.append(len(X_train))\n",
        "      \n",
        "\n",
        "  #PREDICTING on the test data\n",
        "\n",
        "  corr=0\n",
        "  for i in range(len(y_test)):\n",
        "    if y_test[i]==predict(X_test[i]):\n",
        "      corr+=1\n",
        "  acc=corr/len(y_test)    \n",
        "  KFold_accuracies.append(acc)\n",
        "  n_s=sum(num_sv)\n",
        "  N=sum(total_samples)\n",
        "  ns_by_n.append((n_s/N))\n",
        "  num_sv=[]\n",
        "  total_samples=[]"
      ],
      "metadata": {
        "id": "McEaRo2xS4nx"
      },
      "execution_count": null,
      "outputs": []
    },
    {
      "cell_type": "markdown",
      "source": [
        "###Mean Accuracy on the K-Fold cross Validation"
      ],
      "metadata": {
        "id": "pOOBqvB9Wq74"
      }
    },
    {
      "cell_type": "code",
      "source": [
        "KFold_accuracies=np.array(KFold_accuracies)\n",
        "ns_by_n=np.array(ns_by_n)\n",
        "theo_bound=ns_by_n.mean()\n",
        "empirical_acc=KFold_accuracies.mean()\n",
        "print(f'Theoretical error-rate(Ns/N) is {theo_bound}, while as the empirical accuracy achieved is {empirical_acc} ')"
      ],
      "metadata": {
        "colab": {
          "base_uri": "https://localhost:8080/"
        },
        "id": "oKj3tGhBTw3i",
        "outputId": "84a83620-7e0b-4407-a4d9-680611120b4e"
      },
      "execution_count": null,
      "outputs": [
        {
          "output_type": "stream",
          "name": "stdout",
          "text": [
            "Theoretical error-rate(Ns/N) is 0.2, while as the empirical accuracy achieved is 0.8593520249221184 \n"
          ]
        }
      ]
    },
    {
      "cell_type": "markdown",
      "source": [
        "###Student's Test.csv"
      ],
      "metadata": {
        "id": "d1QPWm3QI_FO"
      }
    },
    {
      "cell_type": "code",
      "source": [
        "test_df=pd.read_csv('/content/drive/MyDrive/ECS271/Assignment3/studentsdigits-test.csv')\n",
        "test_df.head()\n",
        "X_test=test_df[['x3','y3','x4','y4','x5','y5','x6','y6']]\n",
        "df1=list(zip(*[X_test[col] for col in X_test]))\n",
        "X_test=[list(i) for i in df1]\n",
        "\n",
        "X_test=scaler.transform(X_test)\n",
        "ans=[]\n",
        "for i in range(len(X_test)):\n",
        "  ans.append(predict(X_test[i]))\n",
        "      \n",
        "ans=np.array(ans)\n",
        "np.savetxt('/content/drive/MyDrive/ECS271/Assignment3/ans1.txt',ans)"
      ],
      "metadata": {
        "id": "Vyt_AqjPWRyH"
      },
      "execution_count": null,
      "outputs": []
    },
    {
      "cell_type": "markdown",
      "source": [
        "#QUESTION 4"
      ],
      "metadata": {
        "id": "TEVVRxlLPQWi"
      }
    },
    {
      "cell_type": "markdown",
      "source": [
        "###Training the SVM on 1 vs 9"
      ],
      "metadata": {
        "id": "OqJPlTsTYIpL"
      }
    },
    {
      "cell_type": "code",
      "source": [
        "df=pd.read_csv('/content/drive/MyDrive/ECS271/Assignment3/studentspen-train.csv')\n",
        "X=df[['x3','y3','x4','y4','x5','y5','x6','y6']]\n",
        "df1=list(zip(*[X[col] for col in X]))\n",
        "X=[list(i) for i in df1]\n",
        "Y=df['Digit'].to_list()\n",
        "Y=np.array(Y)"
      ],
      "metadata": {
        "id": "IZLNc-TOymt0"
      },
      "execution_count": null,
      "outputs": []
    },
    {
      "cell_type": "code",
      "source": [
        "from sklearn.preprocessing import StandardScaler\n",
        "X=np.array(X)\n",
        "scaler = StandardScaler()\n",
        "X=scaler.fit_transform(X)"
      ],
      "metadata": {
        "id": "arZUmDnEcOKA"
      },
      "execution_count": null,
      "outputs": []
    },
    {
      "cell_type": "code",
      "source": [
        "\n",
        "X_transfer={}\n",
        "\n",
        "for i in range(len(X)):\n",
        "  if Y[i] not in X_transfer:\n",
        "    X_transfer[Y[i]]=[X[i]]\n",
        "  else:\n",
        "    X_transfer[Y[i]].append(X[i])\n",
        "\n",
        "X_transfer.keys()"
      ],
      "metadata": {
        "colab": {
          "base_uri": "https://localhost:8080/"
        },
        "id": "Dc-Hg7kIzTYl",
        "outputId": "ef5a3215-e388-4c10-8964-a1c6fff6f46c"
      },
      "execution_count": null,
      "outputs": [
        {
          "output_type": "execute_result",
          "data": {
            "text/plain": [
              "dict_keys([0, 1, 2, 3, 4, 5, 6, 7, 8, 9])"
            ]
          },
          "metadata": {},
          "execution_count": 313
        }
      ]
    },
    {
      "cell_type": "code",
      "source": [
        "X_train=X_transfer[1] + X_transfer[9]\n",
        "Y_train=[1 for i in range(len(X_transfer[1]))] + [-1 for i in range(len(X_transfer[9]))]"
      ],
      "metadata": {
        "id": "Ag0Ey2QBz1lU"
      },
      "execution_count": null,
      "outputs": []
    },
    {
      "cell_type": "code",
      "source": [
        "N1=len(X_transfer[1])\n",
        "N2=len(X_transfer[9])\n",
        "print('Num. of 1s',len(X_transfer[1]),',  Num. of 9s',len(X_transfer[9]))"
      ],
      "metadata": {
        "colab": {
          "base_uri": "https://localhost:8080/"
        },
        "id": "tOYTHPT61K32",
        "outputId": "cb940bb7-c262-4ab2-bde3-a69f11c47e9f"
      },
      "execution_count": null,
      "outputs": [
        {
          "output_type": "stream",
          "name": "stdout",
          "text": [
            "Num. of 1s 390 ,  Num. of 9s 357\n"
          ]
        }
      ]
    },
    {
      "cell_type": "code",
      "source": [
        "Y_train=np.array(Y_train).reshape(-1,1)\n",
        "X_train=np.array(X_train)"
      ],
      "metadata": {
        "id": "HRgz_YoK0gzs"
      },
      "execution_count": null,
      "outputs": []
    },
    {
      "cell_type": "code",
      "source": [
        "X_train.shape"
      ],
      "metadata": {
        "colab": {
          "base_uri": "https://localhost:8080/"
        },
        "id": "ZkoZhC9G0iJe",
        "outputId": "0bc5a45f-e835-4016-fa30-2f09a2f0c032"
      },
      "execution_count": null,
      "outputs": [
        {
          "output_type": "execute_result",
          "data": {
            "text/plain": [
              "(747, 8)"
            ]
          },
          "metadata": {},
          "execution_count": 317
        }
      ]
    },
    {
      "cell_type": "code",
      "source": [
        "# + cp.sum(cp.square(epsilon)*C)\n",
        "D=8\n",
        "C = 2\n",
        "w = cp.Variable((D, 1))\n",
        "b = cp.Variable()\n",
        "epsilon = cp.Variable((N1+N2, 1))\n",
        "objective = cp.Minimize(cp.sum(cp.square(w))*0.5 + cp.sum(cp.square(epsilon)*C) )\n",
        "constraints = [cp.multiply(Y_train, (X_train @ w + b)) >= 1-epsilon, epsilon>=0]\n",
        "prob = cp.Problem(objective, constraints)\n",
        "prob.solve(max_iter=70000)"
      ],
      "metadata": {
        "colab": {
          "base_uri": "https://localhost:8080/"
        },
        "id": "inKkDyE81AS7",
        "outputId": "5b20931c-d3b9-4a73-e921-075d37db889e"
      },
      "execution_count": null,
      "outputs": [
        {
          "output_type": "execute_result",
          "data": {
            "text/plain": [
              "492.8277909232536"
            ]
          },
          "metadata": {},
          "execution_count": 318
        }
      ]
    },
    {
      "cell_type": "code",
      "source": [
        "def predict_transfer(x,w,b):\n",
        "  x=np.squeeze(np.asarray(x))\n",
        "  w=np.squeeze(np.asarray(w))\n",
        "  \n",
        "  y=np.dot(w,x)+b \n",
        "  # print('y == ', y)\n",
        "  # print(j)\n",
        "  if y>0:\n",
        "    return 1\n",
        "  else:\n",
        "    return -1 \n",
        "          \n",
        "\n",
        "#return -1 for 9 or 7"
      ],
      "metadata": {
        "id": "m-fsr_Ng2m5k"
      },
      "execution_count": null,
      "outputs": []
    },
    {
      "cell_type": "code",
      "source": [
        "corr=0\n",
        "for i in range(Y_train.shape[0]):\n",
        "  if Y_train[i][0]==predict_transfer(X_train[i],w.value,b.value):\n",
        "    corr+=1\n",
        "print('Training accuracy for 1 vs 9 is : ',corr/(Y_train.shape[0]),corr)    \n"
      ],
      "metadata": {
        "colab": {
          "base_uri": "https://localhost:8080/"
        },
        "id": "s5PNuKiZ2OZT",
        "outputId": "aedb0459-ff81-4946-e07f-d2ca06486d5b"
      },
      "execution_count": null,
      "outputs": [
        {
          "output_type": "stream",
          "name": "stdout",
          "text": [
            "Training accuracy for 1 vs 9 is :  0.8902275769745649 665\n"
          ]
        }
      ]
    },
    {
      "cell_type": "markdown",
      "source": [
        "##Accuracy on 1 vs 7 without any Transfer.\n",
        " "
      ],
      "metadata": {
        "id": "wgZtbDMoZ6hq"
      }
    },
    {
      "cell_type": "code",
      "source": [
        "df=pd.read_csv('/content/drive/MyDrive/ECS271/Assignment3/transfer_test.csv')\n",
        "X=df[['x3','y3','x4','y4','x5','y5','x6','y6']]\n",
        "df1=list(zip(*[X[col] for col in X]))\n",
        "X=[list(i) for i in df1]\n",
        "Y=df['Digit'].to_list()\n",
        "\n",
        "for i in range(len(Y)):\n",
        "  if Y[i]==7:\n",
        "    Y[i]=-1\n",
        "xx=np.array(X)\n",
        "yy=np.array(Y).reshape(-1,1)\n",
        "# yy"
      ],
      "metadata": {
        "id": "k2ChvkJGZ6FX"
      },
      "execution_count": null,
      "outputs": []
    },
    {
      "cell_type": "code",
      "source": [
        "corr=0\n",
        "for i in range(yy.shape[0]):\n",
        "  if yy[i][0]==predict_transfer(xx[i],w.value,b.value):\n",
        "    corr+=1\n",
        "print('Accuracy for 1 vs 7 without any transfer is : ',corr/(yy.shape[0]),corr,'correct pred. out of yy.shape[0]')    \n"
      ],
      "metadata": {
        "colab": {
          "base_uri": "https://localhost:8080/"
        },
        "id": "eN4vEqNraHiN",
        "outputId": "5126970a-a48c-49ec-dc83-f39fa6f7f52d"
      },
      "execution_count": null,
      "outputs": [
        {
          "output_type": "stream",
          "name": "stdout",
          "text": [
            "Accuracy for 1 vs 7 without any transfer is :  0.5102339181286549 349 correct pred. out of yy.shape[0]\n"
          ]
        }
      ]
    },
    {
      "cell_type": "code",
      "source": [
        "w_source=w.value\n",
        "b_source=b.value"
      ],
      "metadata": {
        "id": "bvNykQIT3sWh"
      },
      "execution_count": null,
      "outputs": []
    },
    {
      "cell_type": "markdown",
      "source": [
        "###Hypothesis Transfer"
      ],
      "metadata": {
        "id": "BVQuW7EfCG40"
      }
    },
    {
      "cell_type": "code",
      "source": [
        "df=pd.read_csv('/content/drive/MyDrive/ECS271/Assignment3/transfer_train.csv')\n",
        "X=df[['x3','y3','x4','y4','x5','y5','x6','y6']]\n",
        "df1=list(zip(*[X[col] for col in X]))\n",
        "X=[list(i) for i in df1]\n",
        "Y=df['Digit'].to_list()\n",
        "\n",
        "for i in range(len(Y)):\n",
        "  if Y[i]==7:\n",
        "    Y[i]=-1"
      ],
      "metadata": {
        "id": "Flg7j6jACYt7"
      },
      "execution_count": null,
      "outputs": []
    },
    {
      "cell_type": "code",
      "source": [
        "xx=np.array(X)\n",
        "yy=np.array(Y).reshape(-1,1)\n",
        "# yy\n",
        "D=8\n",
        "P = np.diag(np.ones(D))\n",
        "w = cp.Variable((D, 1))\n",
        "w.value = w_source\n",
        "b = cp.Variable()\n",
        "epsilon = cp.Variable((len(xx), 1))\n",
        "objective = cp.Minimize(cp.sum_squares(w) * 0.5 + cp.sum(cp.square(epsilon)*C))\n",
        "constraints = [cp.multiply(yy, (xx @ w + b)) >= 1-epsilon, cp.sum_squares((w_source - w)) <= 100, epsilon>=0 ]\n",
        "prob = cp.Problem(objective, constraints)\n",
        "prob.solve()"
      ],
      "metadata": {
        "colab": {
          "base_uri": "https://localhost:8080/"
        },
        "id": "wlf8vDTlDElJ",
        "outputId": "d278c968-7fb1-447b-e3fc-1b0ec4eaf844"
      },
      "execution_count": null,
      "outputs": [
        {
          "output_type": "execute_result",
          "data": {
            "text/plain": [
              "35.03853451209694"
            ]
          },
          "metadata": {},
          "execution_count": 325
        }
      ]
    },
    {
      "cell_type": "markdown",
      "source": [
        "###Training Accuracy for Hypothesis Transfer\n"
      ],
      "metadata": {
        "id": "kLBzGBjpHM1b"
      }
    },
    {
      "cell_type": "code",
      "source": [
        "corr=0\n",
        "for i in range(yy.shape[0]):\n",
        "  if yy[i][0]==predict_transfer(xx[i],w.value,b.value):\n",
        "    corr+=1\n",
        "print('Training accuracy for Hypothesis Transfer (1 vs 7) is : ',corr/(yy.shape[0]),' num. of correct predictions: ',corr,' out of ', yy.shape[0])    \n"
      ],
      "metadata": {
        "colab": {
          "base_uri": "https://localhost:8080/"
        },
        "id": "2dWNzAqo7Lvo",
        "outputId": "011fabef-c3a0-450f-a242-083f3e3a2718"
      },
      "execution_count": null,
      "outputs": [
        {
          "output_type": "stream",
          "name": "stdout",
          "text": [
            "Training accuracy for Hypothesis Transfer (1 vs 7) is :  0.9125  num. of correct predictions:  73  out of  80\n"
          ]
        }
      ]
    },
    {
      "cell_type": "code",
      "source": [
        "xx.shape"
      ],
      "metadata": {
        "colab": {
          "base_uri": "https://localhost:8080/"
        },
        "id": "lfQfGP5G7OCI",
        "outputId": "9a1fc514-1722-4c10-f0bf-67ace89396bd"
      },
      "execution_count": null,
      "outputs": [
        {
          "output_type": "execute_result",
          "data": {
            "text/plain": [
              "(80, 8)"
            ]
          },
          "metadata": {},
          "execution_count": 327
        }
      ]
    },
    {
      "cell_type": "markdown",
      "source": [
        "###Testing Accuracy for Hypothesis Transfer"
      ],
      "metadata": {
        "id": "L5E0NvSnHcIV"
      }
    },
    {
      "cell_type": "code",
      "source": [
        "df=pd.read_csv('/content/drive/MyDrive/ECS271/Assignment3/transfer_test.csv')\n",
        "X=df[['x3','y3','x4','y4','x5','y5','x6','y6']]\n",
        "df1=list(zip(*[X[col] for col in X]))\n",
        "X=[list(i) for i in df1]\n",
        "Y=df['Digit'].to_list()\n",
        "\n",
        "for i in range(len(Y)):\n",
        "  if Y[i]==7:\n",
        "    Y[i]=-1\n",
        "xx=np.array(X)\n",
        "yy=np.array(Y).reshape(-1,1)\n",
        "# yy"
      ],
      "metadata": {
        "id": "QGBA0DOT7SJ2"
      },
      "execution_count": null,
      "outputs": []
    },
    {
      "cell_type": "code",
      "source": [
        "corr=0\n",
        "for i in range(yy.shape[0]):\n",
        "  if yy[i][0]==predict_transfer(xx[i],w.value,b.value):\n",
        "    corr+=1\n",
        "print('Testing accuracy for Hypothesis Transfer (1 vs 7) is : ',corr/(yy.shape[0]),' num. of correct predictions: ',corr,' out of ', yy.shape[0])    \n"
      ],
      "metadata": {
        "colab": {
          "base_uri": "https://localhost:8080/"
        },
        "id": "dYHHWy7EHyh7",
        "outputId": "46685c7c-8bb4-4d10-eb16-e0e4b2322b94"
      },
      "execution_count": null,
      "outputs": [
        {
          "output_type": "stream",
          "name": "stdout",
          "text": [
            "Testing accuracy for Hypothesis Transfer (1 vs 7) is :  0.8961988304093568  num. of correct predictions:  613  out of  684\n"
          ]
        }
      ]
    },
    {
      "cell_type": "markdown",
      "source": [
        "###Instance Transfer"
      ],
      "metadata": {
        "id": "t1rTBI-LX92G"
      }
    },
    {
      "cell_type": "code",
      "source": [
        "w_source,b_source"
      ],
      "metadata": {
        "colab": {
          "base_uri": "https://localhost:8080/"
        },
        "id": "GGVYmdNqH68V",
        "outputId": "e86caa35-422b-4539-d191-af3ba9232e61"
      },
      "execution_count": null,
      "outputs": [
        {
          "output_type": "execute_result",
          "data": {
            "text/plain": [
              "(array([[ 0.09985203],\n",
              "        [ 0.74046131],\n",
              "        [ 0.60504691],\n",
              "        [ 0.22483394],\n",
              "        [ 0.26570817],\n",
              "        [-0.63586391],\n",
              "        [-0.93017331],\n",
              "        [ 0.39412601]]), array(-0.41404025))"
            ]
          },
          "metadata": {},
          "execution_count": 330
        }
      ]
    },
    {
      "cell_type": "code",
      "source": [
        "df=pd.read_csv('/content/drive/MyDrive/ECS271/Assignment3/transfer_train.csv')\n",
        "X=df[['x3','y3','x4','y4','x5','y5','x6','y6']]\n",
        "df1=list(zip(*[X[col] for col in X]))\n",
        "X=[list(i) for i in df1]\n",
        "Y=df['Digit'].to_list()\n",
        "\n",
        "X=np.array(X)\n",
        "X=scaler.transform(X)"
      ],
      "metadata": {
        "id": "Kk-uiQ-eYd_l"
      },
      "execution_count": null,
      "outputs": []
    },
    {
      "cell_type": "code",
      "source": [
        "for i in range(len(Y)):\n",
        "  if Y[i]==7:\n",
        "    Y[i]=-1"
      ],
      "metadata": {
        "id": "vCU6WqLfY2WR"
      },
      "execution_count": null,
      "outputs": []
    },
    {
      "cell_type": "code",
      "source": [
        "xx=np.array(X)\n",
        "yy=np.array(Y).reshape(-1,1)\n",
        "# yy"
      ],
      "metadata": {
        "id": "6Ha8jchmY4ao"
      },
      "execution_count": null,
      "outputs": []
    },
    {
      "cell_type": "markdown",
      "source": [
        "####Distance of Each point in transfer_train.csv from the margin in the w_source as its weight"
      ],
      "metadata": {
        "id": "7u3xGjwba5iE"
      }
    },
    {
      "cell_type": "code",
      "source": [
        "Imp=yy*(np.dot(xx,w_source) + b_source) - 1\n",
        "func = lambda t: 1/(abs(t[0])+0.000001)\n",
        "weight = np.array([func(xi) for xi in Imp])\n",
        "weight=weight.reshape(-1,1)"
      ],
      "metadata": {
        "id": "MjMa_jeZY5mh"
      },
      "execution_count": null,
      "outputs": []
    },
    {
      "cell_type": "code",
      "source": [
        "weight"
      ],
      "metadata": {
        "colab": {
          "base_uri": "https://localhost:8080/"
        },
        "id": "5uXA8nQVekvC",
        "outputId": "90737c25-8a22-4bb2-fc90-838223257951"
      },
      "execution_count": null,
      "outputs": [
        {
          "output_type": "execute_result",
          "data": {
            "text/plain": [
              "array([[36.19801744],\n",
              "       [65.89909247],\n",
              "       [ 2.8077099 ],\n",
              "       [ 0.88951621],\n",
              "       [ 2.95668804],\n",
              "       [16.99376265],\n",
              "       [ 2.14706658],\n",
              "       [ 6.71138881],\n",
              "       [ 4.73286814],\n",
              "       [ 1.11537659],\n",
              "       [ 1.26547756],\n",
              "       [ 2.75956524],\n",
              "       [ 1.33567425],\n",
              "       [ 3.06979832],\n",
              "       [ 7.6685752 ],\n",
              "       [ 0.63143807],\n",
              "       [10.41457622],\n",
              "       [ 1.31776539],\n",
              "       [ 1.42572188],\n",
              "       [52.4494682 ],\n",
              "       [16.10240618],\n",
              "       [ 1.57398115],\n",
              "       [ 1.01478893],\n",
              "       [ 1.32002751],\n",
              "       [ 1.942592  ],\n",
              "       [ 1.57371582],\n",
              "       [ 2.40219306],\n",
              "       [ 1.40694851],\n",
              "       [ 3.83862568],\n",
              "       [ 1.56955555],\n",
              "       [ 4.47020177],\n",
              "       [ 0.91220481],\n",
              "       [ 8.85572074],\n",
              "       [ 4.33764378],\n",
              "       [ 1.36948105],\n",
              "       [ 1.75999008],\n",
              "       [ 1.19917187],\n",
              "       [12.11637817],\n",
              "       [ 1.08780311],\n",
              "       [ 1.69696768],\n",
              "       [ 0.39563592],\n",
              "       [ 0.35779874],\n",
              "       [ 0.3400876 ],\n",
              "       [ 0.4405149 ],\n",
              "       [ 0.29014336],\n",
              "       [ 0.47861332],\n",
              "       [ 0.54291924],\n",
              "       [ 0.39854459],\n",
              "       [ 0.3646502 ],\n",
              "       [ 0.31226579],\n",
              "       [ 0.4123921 ],\n",
              "       [ 0.42020997],\n",
              "       [ 0.42644263],\n",
              "       [ 0.53859224],\n",
              "       [ 0.42836677],\n",
              "       [ 0.32584984],\n",
              "       [ 0.38221852],\n",
              "       [ 0.29526434],\n",
              "       [ 0.35870007],\n",
              "       [ 0.40941083],\n",
              "       [ 0.39080887],\n",
              "       [ 0.41681506],\n",
              "       [ 0.39354384],\n",
              "       [ 0.3192126 ],\n",
              "       [ 0.34221091],\n",
              "       [ 0.48951603],\n",
              "       [ 0.8871887 ],\n",
              "       [ 0.37692059],\n",
              "       [ 0.3611605 ],\n",
              "       [ 0.92373659],\n",
              "       [ 0.3618176 ],\n",
              "       [ 0.43987853],\n",
              "       [ 0.40950514],\n",
              "       [ 0.32213823],\n",
              "       [ 0.33679445],\n",
              "       [ 0.46166074],\n",
              "       [ 0.64177024],\n",
              "       [ 0.57287826],\n",
              "       [ 0.34723087],\n",
              "       [ 0.48115958]])"
            ]
          },
          "metadata": {},
          "execution_count": 335
        }
      ]
    },
    {
      "cell_type": "code",
      "source": [
        "weight.shape"
      ],
      "metadata": {
        "colab": {
          "base_uri": "https://localhost:8080/"
        },
        "id": "ih-o43S9arxy",
        "outputId": "0bb3773c-2343-4342-dbd5-b8e442fa47c7"
      },
      "execution_count": null,
      "outputs": [
        {
          "output_type": "execute_result",
          "data": {
            "text/plain": [
              "(80, 1)"
            ]
          },
          "metadata": {},
          "execution_count": 336
        }
      ]
    },
    {
      "cell_type": "code",
      "source": [
        "D=8\n",
        "w = cp.Variable((D, 1))\n",
        "b = cp.Variable()\n",
        "epsilon = cp.Variable((len(xx), 1))\n",
        "objective = cp.Minimize(cp.sum_squares(w) * 0.5 + cp.sum(cp.square(epsilon)*C))\n",
        "constraints = [cp.multiply(cp.multiply(weight, yy), (xx @ w + b)) >= 1-epsilon, epsilon>=0]\n",
        "prob = cp.Problem(objective, constraints)\n",
        "prob.solve()"
      ],
      "metadata": {
        "colab": {
          "base_uri": "https://localhost:8080/"
        },
        "id": "0oKJWtJnazF9",
        "outputId": "3a18a132-2c78-4613-f80a-40b7d45f3204"
      },
      "execution_count": null,
      "outputs": [
        {
          "output_type": "execute_result",
          "data": {
            "text/plain": [
              "50.54760677399933"
            ]
          },
          "metadata": {},
          "execution_count": 337
        }
      ]
    },
    {
      "cell_type": "code",
      "source": [
        "corr=0\n",
        "for i in range(yy.shape[0]):\n",
        "  if yy[i][0]==predict_transfer(xx[i],w.value,b.value):\n",
        "    corr+=1\n",
        "print('Training accuracy for Instance Transfer (1 vs 7) is : ',corr/(yy.shape[0]),' num. of correct predictions: ',corr,' out of ', yy.shape[0])    \n"
      ],
      "metadata": {
        "colab": {
          "base_uri": "https://localhost:8080/"
        },
        "id": "fstGtzTebGp4",
        "outputId": "a7691fd2-ce95-4532-a85b-06ae0a82adf0"
      },
      "execution_count": null,
      "outputs": [
        {
          "output_type": "stream",
          "name": "stdout",
          "text": [
            "Training accuracy for Instance Transfer (1 vs 7) is :  0.9  num. of correct predictions:  72  out of  80\n"
          ]
        }
      ]
    },
    {
      "cell_type": "markdown",
      "source": [
        "### Accuracy of Instance Transfer on transfer_test.csv"
      ],
      "metadata": {
        "id": "9S0vBc74f2L8"
      }
    },
    {
      "cell_type": "code",
      "source": [
        "df=pd.read_csv('/content/drive/MyDrive/ECS271/Assignment3/transfer_test.csv')\n",
        "X=df[['x3','y3','x4','y4','x5','y5','x6','y6']]\n",
        "df1=list(zip(*[X[col] for col in X]))\n",
        "X=[list(i) for i in df1]\n",
        "Y=df['Digit'].to_list()\n"
      ],
      "metadata": {
        "id": "Z5Upz2UcdZDP"
      },
      "execution_count": null,
      "outputs": []
    },
    {
      "cell_type": "code",
      "source": [
        "for i in range(len(Y)):\n",
        "  if Y[i]==7:\n",
        "    Y[i]=-1"
      ],
      "metadata": {
        "id": "1iXlczx6gOmV"
      },
      "execution_count": null,
      "outputs": []
    },
    {
      "cell_type": "code",
      "source": [
        "xx=np.array(X)\n",
        "yy=np.array(Y).reshape(-1,1)\n",
        "# yy"
      ],
      "metadata": {
        "id": "Pn0_dTD2gPN5"
      },
      "execution_count": null,
      "outputs": []
    },
    {
      "cell_type": "code",
      "source": [
        "corr=0\n",
        "for i in range(yy.shape[0]):\n",
        "  if yy[i][0]==predict_transfer(xx[i],w.value,b.value):\n",
        "    corr+=1\n",
        "print('Testing accuracy for Instance Transfer (1 vs 7) is : ',corr/(yy.shape[0]),' num. of correct predictions: ',corr,' out of ', yy.shape[0])    \n"
      ],
      "metadata": {
        "colab": {
          "base_uri": "https://localhost:8080/"
        },
        "id": "fsuR69yWgTYm",
        "outputId": "d2d3c3f1-7570-4390-978b-0c74ef69ddee"
      },
      "execution_count": null,
      "outputs": [
        {
          "output_type": "stream",
          "name": "stdout",
          "text": [
            "Testing accuracy for Instance Transfer (1 vs 7) is :  0.6067251461988304  num. of correct predictions:  415  out of  684\n"
          ]
        }
      ]
    },
    {
      "cell_type": "markdown",
      "source": [
        "#BONUS"
      ],
      "metadata": {
        "id": "U-Cb2LbGMiyf"
      }
    },
    {
      "cell_type": "code",
      "source": [
        "df=pd.read_csv('/content/drive/MyDrive/ECS271/Assignment3/studentspen-train.csv') \n",
        "X=df[['x3','y3','x4','y4','x5','y5','x6','y6']]\n",
        "df1=list(zip(*[X[col] for col in X]))\n",
        "X=[list(i) for i in df1]\n",
        "\n",
        "\n",
        "Y=df['Digit'].to_list()\n",
        "Y=np.array(Y)\n",
        "\n",
        "\n",
        "\n",
        "from sklearn.preprocessing import StandardScaler\n",
        "\n",
        "scaler = StandardScaler()\n",
        "X=scaler.fit_transform(X)\n",
        "###new array for holding projected dimensions.\n",
        "X_new=np.zeros((X.shape[0],46))\n",
        "\n",
        "### Projecting onto the new dimensions using Polynomial Basis Fn.\n",
        "###  (1 + x1 + x2 + x3 + ... + x8 )**2\n",
        "\n",
        "for i in range(X.shape[0]):\n",
        "  for j in range(8):\n",
        "    X_new[i][j]=X[i][j]\n",
        "  X_new[i][8]=X[i][0]*X[i][0]\n",
        "  X_new[i][9]=X[i][1]*X[i][1]\n",
        "  X_new[i][10]=X[i][2]*X[i][2]\n",
        "  X_new[i][12]=X[i][3]*X[i][3]\n",
        "  X_new[i][13]=X[i][4]*X[i][4]\n",
        "  X_new[i][14]=X[i][5]*X[i][5]\n",
        "  X_new[i][15]=X[i][6]*X[i][6]\n",
        "  X_new[i][16]=X[i][7]*X[i][7]\n",
        "\n",
        "  X_new[i][17]=2*X[i][0]*X[i][1]\n",
        "  X_new[i][18]=2*X[i][0]*X[i][2]  \n",
        "  X_new[i][19]=2*X[i][0]*X[i][3]  \n",
        "  X_new[i][20]=2*X[i][0]*X[i][4]  \n",
        "  X_new[i][21]=2*X[i][0]*X[i][5] \n",
        "  X_new[i][22]=2*X[i][0]*X[i][6]\n",
        "  X_new[i][23]=2*X[i][0]*X[i][7]\n",
        "\n",
        "  X_new[i][24]=2*X[i][1]*X[i][2]  \n",
        "  X_new[i][25]=2*X[i][1]*X[i][3]  \n",
        "  X_new[i][26]=2*X[i][1]*X[i][4]  \n",
        "  X_new[i][27]=2*X[i][1]*X[i][5] \n",
        "  X_new[i][28]=2*X[i][1]*X[i][6]\n",
        "  X_new[i][29]=2*X[i][1]*X[i][7]\n",
        "\n",
        "  X_new[i][30]=2*X[i][2]*X[i][3]  \n",
        "  X_new[i][31]=2*X[i][2]*X[i][4]  \n",
        "  X_new[i][32]=2*X[i][2]*X[i][5] \n",
        "  X_new[i][33]=2*X[i][2]*X[i][6]\n",
        "  X_new[i][34]=2*X[i][2]*X[i][7]\n",
        "\n",
        "  X_new[i][35]=2*X[i][3]*X[i][4]  \n",
        "  X_new[i][36]=2*X[i][3]*X[i][5] \n",
        "  X_new[i][37]=2*X[i][3]*X[i][6]\n",
        "  X_new[i][38]=2*X[i][3]*X[i][7]\n",
        "\n",
        "  X_new[i][39]=2*X[i][4]*X[i][5] \n",
        "  X_new[i][40]=2*X[i][4]*X[i][6]\n",
        "  X_new[i][41]=2*X[i][4]*X[i][7]\n",
        "\n",
        "  X_new[i][42]=2*X[i][5]*X[i][6]\n",
        "  X_new[i][43]=2*X[i][5]*X[i][7]\n",
        "\n",
        "  X_new[i][44]=2*X[i][6]*X[i][7]\n",
        "\n",
        "  X_new[i][45]=1\n",
        "\n",
        "X_train, X_test, y_train, y_test = model_selection.train_test_split(X_new, Y, train_size=0.80, test_size=0.20, random_state=101)\n",
        "\n",
        "\n",
        "X_train_dic={}\n",
        "\n",
        "for i in range(len(X_train)):\n",
        "  if y_train[i] not in X_train_dic:\n",
        "    X_train_dic[y_train[i]]=[X_train[i]]\n",
        "  else:\n",
        "    X_train_dic[y_train[i]].append(X_train[i])\n",
        "\n",
        "X_test_dic={}\n",
        "for i in range(len(X_test)):\n",
        "  if y_test[i] not in X_test_dic:\n",
        "    X_test_dic[y_test[i]]=[X_test[i]]\n",
        "  else:\n",
        "    X_test_dic[y_test[i]].append(X_test[i])\n",
        "\n",
        "# data1=np.array(X_train_dic[0])\n",
        "\n",
        "W_dic={}\n",
        "B_dic={}\n",
        "\n",
        "ll=list(range(10))\n",
        "for i in range(9):\n",
        "  for j in range(i+1,10):\n",
        "    data1=np.array(X_train_dic[i])\n",
        "    data2=np.array(X_train_dic[j])\n",
        "    N1=data1.shape[0]\n",
        "    N2=data2.shape[0]\n",
        "    D=46\n",
        "    X = np.concatenate((data1, data2), axis=0)\n",
        "    \n",
        "    y = np.concatenate((np.ones((N1, 1)), - np.ones((N2, 1))), axis=0)\n",
        "\n",
        "    # USE THE SOLVER \n",
        "\n",
        "    C = 2\n",
        "    w = cp.Variable((D, 1))\n",
        "    b = cp.Variable()\n",
        "    epsilon = cp.Variable((N1+N2, 1))\n",
        "    objective = cp.Minimize(cp.sum(cp.square(w))*0.5 + cp.sum(cp.square(epsilon)*C))\n",
        "    constraints = [cp.multiply(y, (X @ w + b)) >= 1 - epsilon,  epsilon >= 0]\n",
        "    prob = cp.Problem(objective, constraints)\n",
        "    prob.solve(max_iter=40000)\n",
        "    W_dic[(i,j)]=w.value\n",
        "    B_dic[(i,j)]=b.value\n",
        "\n",
        "\n"
      ],
      "metadata": {
        "id": "zin5QEU_ge5o"
      },
      "execution_count": null,
      "outputs": []
    },
    {
      "cell_type": "code",
      "source": [
        "def predict(x):\n",
        "  x=np.squeeze(np.asarray(x))\n",
        "  # x=x.reshape((x.shape[0],1))\n",
        "  vote=[0 for i in range(10)]\n",
        "\n",
        "  for i in range(9):\n",
        "    for j in range(i+1,10): \n",
        "      w=W_dic[(i,j)]\n",
        "      b=B_dic[(i,j)]\n",
        "      w=np.squeeze(np.asarray(w))\n",
        "      y=np.dot(w,x)+b \n",
        "      # print('y == ', y)\n",
        "      # print(j)\n",
        "      if y>0:\n",
        "        vote[i]+=1\n",
        "      else:\n",
        "        vote[j]+=1  \n",
        "  mm=max(vote)\n",
        "\n",
        "  return vote.index(mm)         \n",
        "\n"
      ],
      "metadata": {
        "id": "D2mLdjRrUUqQ"
      },
      "execution_count": null,
      "outputs": []
    },
    {
      "cell_type": "code",
      "source": [
        "corr=0\n",
        "for i in range(X_test.shape[0]): \n",
        "  if y_test[i]==predict(X_test[i]):\n",
        "    corr+=1 \n",
        "print(corr/X_test.shape[0])  \n",
        "print('Testing accuracy for BONUS question(kernel) is : ', corr/X_test.shape[0])  "
      ],
      "metadata": {
        "colab": {
          "base_uri": "https://localhost:8080/"
        },
        "id": "jwvlxQhLULaW",
        "outputId": "1d455471-d174-47ba-9622-29fef2b2753f"
      },
      "execution_count": null,
      "outputs": [
        {
          "output_type": "stream",
          "name": "stdout",
          "text": [
            "0.968\n",
            "Testing accuracy for BONUS question(kernel) is :  0.968\n"
          ]
        }
      ]
    },
    {
      "cell_type": "markdown",
      "source": [
        "##Prediction on Student's Digits-Test"
      ],
      "metadata": {
        "id": "A8L6UGbGr8Mt"
      }
    },
    {
      "cell_type": "code",
      "source": [
        "test_df=pd.read_csv('/content/drive/MyDrive/ECS271/Assignment3/studentsdigits-test.csv')\n",
        "test_df.head()\n",
        "X=test_df[['x3','y3','x4','y4','x5','y5','x6','y6']]\n",
        "df1=list(zip(*[X[col] for col in X]))\n",
        "X=[list(i) for i in df1]\n",
        "\n",
        "X=scaler.transform(X)\n",
        "\n",
        "\n",
        "X_new=np.zeros((X.shape[0],46))\n",
        "\n",
        "for i in range(X.shape[0]):\n",
        "  for j in range(8):\n",
        "    X_new[i][j]=X[i][j]\n",
        "  X_new[i][8]=X[i][0]*X[i][0]\n",
        "  X_new[i][9]=X[i][1]*X[i][1]\n",
        "  X_new[i][10]=X[i][2]*X[i][2]\n",
        "  X_new[i][12]=X[i][3]*X[i][3]\n",
        "  X_new[i][13]=X[i][4]*X[i][4]\n",
        "  X_new[i][14]=X[i][5]*X[i][5]\n",
        "  X_new[i][15]=X[i][6]*X[i][6]\n",
        "  X_new[i][16]=X[i][7]*X[i][7]\n",
        "\n",
        "  X_new[i][17]=2*X[i][0]*X[i][1]\n",
        "  X_new[i][18]=2*X[i][0]*X[i][2]  \n",
        "  X_new[i][19]=2*X[i][0]*X[i][3]  \n",
        "  X_new[i][20]=2*X[i][0]*X[i][4]  \n",
        "  X_new[i][21]=2*X[i][0]*X[i][5] \n",
        "  X_new[i][22]=2*X[i][0]*X[i][6]\n",
        "  X_new[i][23]=2*X[i][0]*X[i][7]\n",
        "\n",
        "  X_new[i][24]=2*X[i][1]*X[i][2]  \n",
        "  X_new[i][25]=2*X[i][1]*X[i][3]  \n",
        "  X_new[i][26]=2*X[i][1]*X[i][4]  \n",
        "  X_new[i][27]=2*X[i][1]*X[i][5] \n",
        "  X_new[i][28]=2*X[i][1]*X[i][6]\n",
        "  X_new[i][29]=2*X[i][1]*X[i][7]\n",
        "\n",
        "  X_new[i][30]=2*X[i][2]*X[i][3]  \n",
        "  X_new[i][31]=2*X[i][2]*X[i][4]  \n",
        "  X_new[i][32]=2*X[i][2]*X[i][5] \n",
        "  X_new[i][33]=2*X[i][2]*X[i][6]\n",
        "  X_new[i][34]=2*X[i][2]*X[i][7]\n",
        "\n",
        "  X_new[i][35]=2*X[i][3]*X[i][4]  \n",
        "  X_new[i][36]=2*X[i][3]*X[i][5] \n",
        "  X_new[i][37]=2*X[i][3]*X[i][6]\n",
        "  X_new[i][38]=2*X[i][3]*X[i][7]\n",
        "\n",
        "  X_new[i][39]=2*X[i][4]*X[i][5] \n",
        "  X_new[i][40]=2*X[i][4]*X[i][6]\n",
        "  X_new[i][41]=2*X[i][4]*X[i][7]\n",
        "\n",
        "  X_new[i][42]=2*X[i][5]*X[i][6]\n",
        "  X_new[i][43]=2*X[i][5]*X[i][7]\n",
        "\n",
        "  X_new[i][44]=2*X[i][6]*X[i][7]\n",
        "\n",
        "  X_new[i][45]=1\n",
        "\n",
        "\n",
        "\n",
        "ans=[]\n",
        "for i in range(len(X_new)):\n",
        "  ans.append(predict(X_new[i]))\n",
        "      \n",
        "ans=np.array(ans)\n",
        "np.savetxt('/content/drive/MyDrive/ECS271/Assignment3/ans_bonus.txt',ans)"
      ],
      "metadata": {
        "id": "MqkgcCSMXoty"
      },
      "execution_count": null,
      "outputs": []
    },
    {
      "cell_type": "code",
      "source": [
        "len(ans)"
      ],
      "metadata": {
        "colab": {
          "base_uri": "https://localhost:8080/"
        },
        "id": "eddc8kzauS52",
        "outputId": "49746174-c623-4aac-cb1b-544ada218443"
      },
      "execution_count": null,
      "outputs": [
        {
          "output_type": "execute_result",
          "data": {
            "text/plain": [
              "3747"
            ]
          },
          "metadata": {},
          "execution_count": 347
        }
      ]
    },
    {
      "cell_type": "code",
      "source": [
        ""
      ],
      "metadata": {
        "id": "_w5YrUKQuiSg"
      },
      "execution_count": null,
      "outputs": []
    }
  ]
}